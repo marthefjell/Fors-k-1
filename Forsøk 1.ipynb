{
 "cells": [
  {
   "cell_type": "markdown",
   "metadata": {},
   "source": [
    "# Forsøk 1:\n",
    "### Skyte spurv med kanoner:"
   ]
  },
  {
   "cell_type": "code",
   "execution_count": 23,
   "metadata": {},
   "outputs": [
    {
     "name": "stdout",
     "output_type": "stream",
     "text": [
      "Nullpunktet er x = 0.76 og løkka kjørte 7 ganger.\n"
     ]
    }
   ],
   "source": [
    "from pylab import *\n",
    "\n",
    "# Måling for tid:\n",
    "v_0 = 5.8\n",
    "n = 40\n",
    "A = (n/180)*pi\n",
    "g = 9.81\n",
    "\n",
    "def y(t):\n",
    "    return v_0 * sin(A) * t - 1/2* g * t**2\n",
    "\n",
    "def yder(t):\n",
    "    return v_0 * sin(A) - g * t \n",
    "\n",
    "def NewtonsMetode(y, yder, a, tol = 1E-15):\n",
    "    i = 0\n",
    "    c = a\n",
    "    while abs(y(c)) > tol:\n",
    "        c = a - y(a)/yder(a)\n",
    "        a = c\n",
    "        i += 1\n",
    "    print(\"Nullpunktet er x =\",round(c,2), \"og løkka kjørte\", i, \"ganger.\")\n",
    "    return c\n",
    "\n",
    "c = NewtonsMetode(y,yder, 2, tol = 1E-15)"
   ]
  },
  {
   "cell_type": "code",
   "execution_count": 24,
   "metadata": {},
   "outputs": [
    {
     "name": "stdout",
     "output_type": "stream",
     "text": [
      "Kulen ble skutt 3.38 meter.\n"
     ]
    }
   ],
   "source": [
    "# Måling for posisjon:\n",
    "\n",
    "v_0 = 5.8\n",
    "n = 40\n",
    "A = (n/180)*pi\n",
    "t = c\n",
    "\n",
    "\n",
    "def x(t):\n",
    "    return v_0 * cos(A) * t\n",
    "\n",
    "print(\"Kulen ble skutt\", round(x(t),2), \"meter.\")"
   ]
  },
  {
   "cell_type": "markdown",
   "metadata": {},
   "source": [
    "|Vinkel|v_0|teoretisk t|teoretisk s|målt s|avvik i %|\n",
    "|------|---|-----------|-----------|------|---------|\n",
    "|18|3.09 m/s|0.19 s|0.57 m|0.89 m|56.0%|\n",
    "|60|3.17 m/s|0.56 s|0.89 m|0.72 m|19.0%|\n",
    "|60|3.23 m/s|0.57 s|0.92 m|0.85 m|7.6%|\n",
    "|30|3.29 m/s|0.34 s|0.96 m|1.00 m|4.2%|\n",
    "|45|3.21 m/s|0.46 s|1.05 m|1.02 m|2.9%|\n",
    "|45|3.21 m/s|0.46 s|1.05 m|1.00 m|4.8%|\n",
    "|36|3.27 m/s|0.39 s|1.04 m|1.15 m|10.6%|\n",
    "|36|3.25 m/s|0.39 s|1.02 m|1.16 m|13.7%|\n"
   ]
  },
  {
   "cell_type": "markdown",
   "metadata": {},
   "source": [
    "### Feilkilder:\n",
    "En stor feilkilde vi har i vårt forsøk er vinkelen. Vi brukte en gradskive og det var vanskelig å vite hvor stor vinkelen vår skulle være. Andre feilkilder er at målingene i denne tabellen ikke er våre, men den ene målingen brukt i programmet er vår. "
   ]
  },
  {
   "cell_type": "code",
   "execution_count": null,
   "metadata": {},
   "outputs": [],
   "source": []
  }
 ],
 "metadata": {
  "kernelspec": {
   "display_name": "Python 3",
   "language": "python",
   "name": "python3"
  },
  "language_info": {
   "codemirror_mode": {
    "name": "ipython",
    "version": 3
   },
   "file_extension": ".py",
   "mimetype": "text/x-python",
   "name": "python",
   "nbconvert_exporter": "python",
   "pygments_lexer": "ipython3",
   "version": "3.6.5"
  }
 },
 "nbformat": 4,
 "nbformat_minor": 2
}
